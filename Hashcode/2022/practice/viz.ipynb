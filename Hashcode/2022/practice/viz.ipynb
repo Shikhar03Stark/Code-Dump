{
 "cells": [
  {
   "cell_type": "code",
   "execution_count": 1,
   "metadata": {},
   "outputs": [],
   "source": [
    "import numpy as np\n",
    "import pandas as pd\n",
    "import matplotlib.pyplot as plt\n",
    "import seaborn as sns"
   ]
  },
  {
   "cell_type": "code",
   "execution_count": 33,
   "metadata": {},
   "outputs": [],
   "source": [
    "choice = []\n",
    "glikes = dict()\n",
    "gdislikes = dict()\n",
    "peeps = 0\n",
    "with open('c_coarse.in.txt') as f:\n",
    "    peeps = int(f.readline())\n",
    "    for _ in range(peeps):\n",
    "        likes = dict()\n",
    "        dislikes = dict()\n",
    "        l = f.readline()[:-1].split(' ')\n",
    "        ln = int(l[0])\n",
    "        for item in l[1:]:\n",
    "            if item in likes.keys():\n",
    "                likes[item] = likes[item]+1\n",
    "            else:\n",
    "                likes[item] = 1\n",
    "\n",
    "            if item in glikes.keys():\n",
    "                glikes[item] = glikes[item]+1\n",
    "            else:\n",
    "                glikes[item] = 1\n",
    "        \n",
    "        d = f.readline()[:-1].split(' ')\n",
    "        dn = int(d[0])\n",
    "        for item in d[1:]:\n",
    "            if item in dislikes.keys():\n",
    "                dislikes[item] = dislikes[item]+1\n",
    "            else:\n",
    "                dislikes[item] = 1\n",
    "\n",
    "            if item in gdislikes.keys():\n",
    "                gdislikes[item] = gdislikes[item]+1\n",
    "            else:\n",
    "                gdislikes[item] = 1\n",
    "\n",
    "        choice.append({'likes': likes, 'dislikes': dislikes})\n",
    "\n"
   ]
  },
  {
   "cell_type": "code",
   "execution_count": 34,
   "metadata": {},
   "outputs": [],
   "source": [
    "df = pd.DataFrame([glikes, gdislikes], index=['likes', 'dislikes'])"
   ]
  },
  {
   "cell_type": "code",
   "execution_count": 35,
   "metadata": {},
   "outputs": [
    {
     "data": {
      "text/html": [
       "<div>\n",
       "<style scoped>\n",
       "    .dataframe tbody tr th:only-of-type {\n",
       "        vertical-align: middle;\n",
       "    }\n",
       "\n",
       "    .dataframe tbody tr th {\n",
       "        vertical-align: top;\n",
       "    }\n",
       "\n",
       "    .dataframe thead th {\n",
       "        text-align: right;\n",
       "    }\n",
       "</style>\n",
       "<table border=\"1\" class=\"dataframe\">\n",
       "  <thead>\n",
       "    <tr style=\"text-align: right;\">\n",
       "      <th></th>\n",
       "      <th>akuof</th>\n",
       "      <th>byyii</th>\n",
       "      <th>dlust</th>\n",
       "      <th>luncl</th>\n",
       "      <th>qzfyo</th>\n",
       "      <th>vxglq</th>\n",
       "      <th>xveqd</th>\n",
       "      <th>tfeej</th>\n",
       "      <th>xdozp</th>\n",
       "      <th>sunhp</th>\n",
       "    </tr>\n",
       "  </thead>\n",
       "  <tbody>\n",
       "    <tr>\n",
       "      <th>likes</th>\n",
       "      <td>3</td>\n",
       "      <td>3</td>\n",
       "      <td>6.0</td>\n",
       "      <td>5.0</td>\n",
       "      <td>2</td>\n",
       "      <td>4.0</td>\n",
       "      <td>2</td>\n",
       "      <td>3.0</td>\n",
       "      <td>2</td>\n",
       "      <td>NaN</td>\n",
       "    </tr>\n",
       "    <tr>\n",
       "      <th>dislikes</th>\n",
       "      <td>1</td>\n",
       "      <td>1</td>\n",
       "      <td>NaN</td>\n",
       "      <td>NaN</td>\n",
       "      <td>2</td>\n",
       "      <td>NaN</td>\n",
       "      <td>1</td>\n",
       "      <td>NaN</td>\n",
       "      <td>2</td>\n",
       "      <td>1.0</td>\n",
       "    </tr>\n",
       "  </tbody>\n",
       "</table>\n",
       "</div>"
      ],
      "text/plain": [
       "          akuof  byyii  dlust  luncl  qzfyo  vxglq  xveqd  tfeej  xdozp  sunhp\n",
       "likes         3      3    6.0    5.0      2    4.0      2    3.0      2    NaN\n",
       "dislikes      1      1    NaN    NaN      2    NaN      1    NaN      2    1.0"
      ]
     },
     "execution_count": 35,
     "metadata": {},
     "output_type": "execute_result"
    }
   ],
   "source": [
    "df"
   ]
  },
  {
   "cell_type": "code",
   "execution_count": 41,
   "metadata": {},
   "outputs": [
    {
     "data": {
      "text/plain": [
       "<AxesSubplot:>"
      ]
     },
     "execution_count": 41,
     "metadata": {},
     "output_type": "execute_result"
    },
    {
     "data": {
      "image/png": "[encoded data removed]",
      "text/plain": [
       "<Figure size 1008x504 with 2 Axes>"
      ]
     },
     "metadata": {
      "needs_background": "light"
     },
     "output_type": "display_data"
    }
   ],
   "source": [
    "plt.figure(figsize=(14,7))\n",
    "sns.heatmap(df, annot=True, cmap=plt.cm.get_cmap('Blues'))"
   ]
  },
  {
   "cell_type": "code",
   "execution_count": null,
   "metadata": {},
   "outputs": [],
   "source": []
  }
 ],
 "metadata": {
  "interpreter": {
   "hash": "3e472347eb71f934b094b1342e3a3b65be9d5f76015f99fdbbf27b20f1c63453"
  },
  "kernelspec": {
   "display_name": "Python 3.8.8 64-bit ('NN': conda)",
   "language": "python",
   "name": "python3"
  },
  "language_info": {
   "codemirror_mode": {
    "name": "ipython",
    "version": 3
   },
   "file_extension": ".py",
   "mimetype": "text/x-python",
   "name": "python",
   "nbconvert_exporter": "python",
   "pygments_lexer": "ipython3",
   "version": "3.8.8"
  },
  "orig_nbformat": 4
 },
 "nbformat": 4,
 "nbformat_minor": 2
}
