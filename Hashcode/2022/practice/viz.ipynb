{
 "cells": [
  {
   "cell_type": "code",
   "execution_count": 2,
   "metadata": {},
   "outputs": [],
   "source": [
    "import numpy as np\n",
    "import pandas as pd\n",
    "import matplotlib.pyplot as plt\n",
    "import seaborn as sns"
   ]
  },
  {
   "cell_type": "code",
   "execution_count": 7,
   "metadata": {},
   "outputs": [],
   "source": [
    "choice = []\n",
    "glikes = dict()\n",
    "gdislikes = dict()\n",
    "peeps = 0\n",
    "with open('d_difficult.in.txt') as f:\n",
    "    peeps = int(f.readline())\n",
    "    for _ in range(peeps):\n",
    "        likes = dict()\n",
    "        dislikes = dict()\n",
    "        l = f.readline()[:-1].split(' ')\n",
    "        ln = int(l[0])\n",
    "        for item in l[1:]:\n",
    "            if item in likes.keys():\n",
    "                likes[item] = likes[item]+1\n",
    "            else:\n",
    "                likes[item] = 1\n",
    "\n",
    "            if item in glikes.keys():\n",
    "                glikes[item] = glikes[item]+1\n",
    "            else:\n",
    "                glikes[item] = 1\n",
    "        \n",
    "        d = f.readline()[:-1].split(' ')\n",
    "        dn = int(d[0])\n",
    "        for item in d[1:]:\n",
    "            if item in dislikes.keys():\n",
    "                dislikes[item] = dislikes[item]+1\n",
    "            else:\n",
    "                dislikes[item] = 1\n",
    "\n",
    "            if item in gdislikes.keys():\n",
    "                gdislikes[item] = gdislikes[item]+1\n",
    "            else:\n",
    "                gdislikes[item] = 1\n",
    "\n",
    "        choice.append({'likes': likes, 'dislikes': dislikes})\n",
    "\n"
   ]
  },
  {
   "cell_type": "code",
   "execution_count": 8,
   "metadata": {},
   "outputs": [],
   "source": [
    "df = pd.DataFrame([glikes, gdislikes], index=['likes', 'dislikes'])"
   ]
  },
  {
   "cell_type": "code",
   "execution_count": 9,
   "metadata": {},
   "outputs": [
    {
     "data": {
      "text/html": [
       "<div>\n",
       "<style scoped>\n",
       "    .dataframe tbody tr th:only-of-type {\n",
       "        vertical-align: middle;\n",
       "    }\n",
       "\n",
       "    .dataframe tbody tr th {\n",
       "        vertical-align: top;\n",
       "    }\n",
       "\n",
       "    .dataframe thead th {\n",
       "        text-align: right;\n",
       "    }\n",
       "</style>\n",
       "<table border=\"1\" class=\"dataframe\">\n",
       "  <thead>\n",
       "    <tr style=\"text-align: right;\">\n",
       "      <th></th>\n",
       "      <th>ingredient319</th>\n",
       "      <th>ingredient79</th>\n",
       "      <th>ingredient123</th>\n",
       "      <th>ingredient550</th>\n",
       "      <th>ingredient552</th>\n",
       "      <th>ingredient266</th>\n",
       "      <th>ingredient353</th>\n",
       "      <th>ingredient359</th>\n",
       "      <th>ingredient279</th>\n",
       "      <th>ingredient442</th>\n",
       "      <th>...</th>\n",
       "      <th>ingredient562</th>\n",
       "      <th>ingredient551</th>\n",
       "      <th>ingredient596</th>\n",
       "      <th>ingredient528</th>\n",
       "      <th>ingredient169</th>\n",
       "      <th>ingredient544</th>\n",
       "      <th>ingredient295</th>\n",
       "      <th>ingredient588</th>\n",
       "      <th>ingredient527</th>\n",
       "      <th>ingredient526</th>\n",
       "    </tr>\n",
       "  </thead>\n",
       "  <tbody>\n",
       "    <tr>\n",
       "      <th>likes</th>\n",
       "      <td>30</td>\n",
       "      <td>43</td>\n",
       "      <td>26</td>\n",
       "      <td>19.0</td>\n",
       "      <td>16.0</td>\n",
       "      <td>34</td>\n",
       "      <td>24</td>\n",
       "      <td>33</td>\n",
       "      <td>17</td>\n",
       "      <td>34</td>\n",
       "      <td>...</td>\n",
       "      <td>13.0</td>\n",
       "      <td>13.0</td>\n",
       "      <td>6.0</td>\n",
       "      <td>12.0</td>\n",
       "      <td>20</td>\n",
       "      <td>13.0</td>\n",
       "      <td>26</td>\n",
       "      <td>10.0</td>\n",
       "      <td>18.0</td>\n",
       "      <td>13.0</td>\n",
       "    </tr>\n",
       "    <tr>\n",
       "      <th>dislikes</th>\n",
       "      <td>22</td>\n",
       "      <td>27</td>\n",
       "      <td>30</td>\n",
       "      <td>NaN</td>\n",
       "      <td>NaN</td>\n",
       "      <td>41</td>\n",
       "      <td>41</td>\n",
       "      <td>31</td>\n",
       "      <td>28</td>\n",
       "      <td>41</td>\n",
       "      <td>...</td>\n",
       "      <td>NaN</td>\n",
       "      <td>NaN</td>\n",
       "      <td>NaN</td>\n",
       "      <td>NaN</td>\n",
       "      <td>24</td>\n",
       "      <td>NaN</td>\n",
       "      <td>25</td>\n",
       "      <td>NaN</td>\n",
       "      <td>NaN</td>\n",
       "      <td>NaN</td>\n",
       "    </tr>\n",
       "  </tbody>\n",
       "</table>\n",
       "<p>2 rows × 600 columns</p>\n",
       "</div>"
      ],
      "text/plain": [
       "          ingredient319  ingredient79  ingredient123  ingredient550  \\\n",
       "likes                30            43             26           19.0   \n",
       "dislikes             22            27             30            NaN   \n",
       "\n",
       "          ingredient552  ingredient266  ingredient353  ingredient359  \\\n",
       "likes              16.0             34             24             33   \n",
       "dislikes            NaN             41             41             31   \n",
       "\n",
       "          ingredient279  ingredient442  ...  ingredient562  ingredient551  \\\n",
       "likes                17             34  ...           13.0           13.0   \n",
       "dislikes             28             41  ...            NaN            NaN   \n",
       "\n",
       "          ingredient596  ingredient528  ingredient169  ingredient544  \\\n",
       "likes               6.0           12.0             20           13.0   \n",
       "dislikes            NaN            NaN             24            NaN   \n",
       "\n",
       "          ingredient295  ingredient588  ingredient527  ingredient526  \n",
       "likes                26           10.0           18.0           13.0  \n",
       "dislikes             25            NaN            NaN            NaN  \n",
       "\n",
       "[2 rows x 600 columns]"
      ]
     },
     "execution_count": 9,
     "metadata": {},
     "output_type": "execute_result"
    }
   ],
   "source": [
    "df"
   ]
  },
  {
   "cell_type": "code",
   "execution_count": 11,
   "metadata": {},
   "outputs": [
    {
     "data": {
      "text/plain": [
       "<AxesSubplot:>"
      ]
     },
     "execution_count": 11,
     "metadata": {},
     "output_type": "execute_result"
    },
    {
     "data": {
      "image/png": "[encoded data removed]",
      "text/plain": [
       "<Figure size 1008x504 with 2 Axes>"
      ]
     },
     "metadata": {
      "needs_background": "light"
     },
     "output_type": "display_data"
    }
   ],
   "source": [
    "plt.figure(figsize=(14,7))\n",
    "sns.heatmap(df, cmap=plt.cm.get_cmap('Blues'))"
   ]
  },
  {
   "cell_type": "code",
   "execution_count": null,
   "metadata": {},
   "outputs": [],
   "source": []
  }
 ],
 "metadata": {
  "interpreter": {
   "hash": "3e472347eb71f934b094b1342e3a3b65be9d5f76015f99fdbbf27b20f1c63453"
  },
  "kernelspec": {
   "display_name": "Python 3.8.8 64-bit ('NN': conda)",
   "language": "python",
   "name": "python3"
  },
  "language_info": {
   "codemirror_mode": {
    "name": "ipython",
    "version": 3
   },
   "file_extension": ".py",
   "mimetype": "text/x-python",
   "name": "python",
   "nbconvert_exporter": "python",
   "pygments_lexer": "ipython3",
   "version": "3.8.8"
  },
  "orig_nbformat": 4
 },
 "nbformat": 4,
 "nbformat_minor": 2
}
